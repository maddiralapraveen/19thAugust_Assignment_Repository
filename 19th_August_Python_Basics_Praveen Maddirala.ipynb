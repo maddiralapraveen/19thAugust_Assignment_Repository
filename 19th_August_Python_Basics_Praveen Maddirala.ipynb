{
 "cells": [
  {
   "cell_type": "markdown",
   "id": "0b81561e-8f88-43dc-842a-89affbc6b000",
   "metadata": {},
   "source": [
    "TOPIC: Python Basics Variable\n",
    "1. Declare two variables, `x` and `y`, and assign them integer values.\n",
    "Swap the values of these variables without using any temporary\n",
    "variable."
   ]
  },
  {
   "cell_type": "code",
   "execution_count": 1,
   "id": "2a2951ae-8e04-4680-ba3c-03b94ce206bb",
   "metadata": {},
   "outputs": [],
   "source": [
    "#Assigning x and y variables with integer values\n",
    "x=10\n",
    "y=20"
   ]
  },
  {
   "cell_type": "code",
   "execution_count": 2,
   "id": "5e4bf16c-7ec7-4709-bab4-606dda4d1efa",
   "metadata": {},
   "outputs": [
    {
     "data": {
      "text/plain": [
       "30"
      ]
     },
     "execution_count": 2,
     "metadata": {},
     "output_type": "execute_result"
    }
   ],
   "source": [
    "#Adding y variable value aslo to x variable\n",
    "x=x+y\n",
    "x"
   ]
  },
  {
   "cell_type": "code",
   "execution_count": 3,
   "id": "a451c280-b279-4a13-b4b4-bbc799c81d93",
   "metadata": {},
   "outputs": [
    {
     "data": {
      "text/plain": [
       "10"
      ]
     },
     "execution_count": 3,
     "metadata": {},
     "output_type": "execute_result"
    }
   ],
   "source": [
    "#Currently x variable has total x+y data, subtracting y variable data from total x value \n",
    "#now y variable has the x variable data\n",
    "y=x-y\n",
    "y"
   ]
  },
  {
   "cell_type": "code",
   "execution_count": 4,
   "id": "f9ddcde7-8aae-487c-a124-f052cee1014d",
   "metadata": {},
   "outputs": [
    {
     "data": {
      "text/plain": [
       "20"
      ]
     },
     "execution_count": 4,
     "metadata": {},
     "output_type": "execute_result"
    }
   ],
   "source": [
    "#x variable has the total of x+y data, subtracting the y variable data from total x value\n",
    "#now x variable has the y variable data\n",
    "x=x-y\n",
    "x"
   ]
  },
  {
   "cell_type": "markdown",
   "id": "b962f703-0402-4b22-9e59-29c251475e49",
   "metadata": {},
   "source": [
    "TOPIC: Python Basics Variable"
   ]
  },
  {
   "cell_type": "markdown",
   "id": "dd7b585b-70d8-41a5-af2a-4272062f90d5",
   "metadata": {},
   "source": [
    "2. Create a program that calculates the area of a rectangle. Take the\n",
    "length and width as inputs from the user and store them in variables.\n",
    "Calculate and display the area."
   ]
  },
  {
   "cell_type": "code",
   "execution_count": 5,
   "id": "5088a52d-2c88-4fdd-b4e7-b34a9c34b047",
   "metadata": {},
   "outputs": [
    {
     "name": "stdout",
     "output_type": "stream",
     "text": [
      "Please enter the length of the rectangle\n"
     ]
    },
    {
     "name": "stdin",
     "output_type": "stream",
     "text": [
      " 12.5\n"
     ]
    },
    {
     "name": "stdout",
     "output_type": "stream",
     "text": [
      "Please enter the width of the rectangle\n"
     ]
    },
    {
     "name": "stdin",
     "output_type": "stream",
     "text": [
      " 11\n"
     ]
    }
   ],
   "source": [
    "#Taking the length of the rectangle from user input of float data type\n",
    "print(\"Please enter the length of the rectangle\")\n",
    "l=float(input())\n",
    "#Taking the width of the rectangle from user input of float data type\n",
    "print(\"Please enter the width of the rectangle\")\n",
    "w=float(input())"
   ]
  },
  {
   "cell_type": "code",
   "execution_count": 6,
   "id": "04faf1c9-df05-49d5-82a3-344b4d2d442e",
   "metadata": {},
   "outputs": [
    {
     "name": "stdout",
     "output_type": "stream",
     "text": [
      "The area of the rectangle is:  137.5\n"
     ]
    }
   ],
   "source": [
    "# Calculating the Area of rectangle\n",
    "area_rectangle=l*w\n",
    "print(\"The area of the rectangle is: \",area_rectangle) "
   ]
  },
  {
   "cell_type": "markdown",
   "id": "bad4d24c-4a69-4b2f-985c-24f3c9cc65b3",
   "metadata": {},
   "source": [
    "TOPIC: Python Basics Variable"
   ]
  },
  {
   "cell_type": "markdown",
   "id": "2cb009d0-b00e-4bfd-bc91-ed5e5585a6fd",
   "metadata": {},
   "source": [
    "3. Write a Python program that converts temperature from Celsius to\n",
    "Fahrenheit. Take the temperature in Celsius as input, store it in a\n",
    "variable, convert it to Fahrenheit, and display the result."
   ]
  },
  {
   "cell_type": "code",
   "execution_count": 7,
   "id": "936b94c7-e30d-44aa-928b-8a237ef49d56",
   "metadata": {},
   "outputs": [
    {
     "name": "stdout",
     "output_type": "stream",
     "text": [
      "Please enter Celsius value:\n"
     ]
    },
    {
     "name": "stdin",
     "output_type": "stream",
     "text": [
      " 102\n"
     ]
    },
    {
     "name": "stdout",
     "output_type": "stream",
     "text": [
      "The Fahrenheit value of entered cecicus value 102.0 is:  215.6\n"
     ]
    }
   ],
   "source": [
    "#Taking the celsius value from user input\n",
    "print(\"Please enter Celsius value:\")\n",
    "c=float(input())\n",
    "#Calculating the Celsius to Fahrenheit\n",
    "f=(c*(9/5))+32\n",
    "print(\"The Fahrenheit value of entered cecicus value\",c,\"is: \",f)"
   ]
  },
  {
   "cell_type": "markdown",
   "id": "17050cee-474a-4441-bc02-39ec5056fcea",
   "metadata": {},
   "source": [
    "TOPIC: String Based Questions"
   ]
  },
  {
   "cell_type": "markdown",
   "id": "ec3572b9-3ccd-41b9-bad6-64548b042b8a",
   "metadata": {},
   "source": [
    "1. Write a Python program that takes a string as input and prints the\n",
    "length of the string."
   ]
  },
  {
   "cell_type": "code",
   "execution_count": 8,
   "id": "413d2842-274b-4d86-9cf6-10c752fb5148",
   "metadata": {},
   "outputs": [
    {
     "name": "stdout",
     "output_type": "stream",
     "text": [
      "Please enter the string:\n"
     ]
    },
    {
     "name": "stdin",
     "output_type": "stream",
     "text": [
      " sample\n"
     ]
    },
    {
     "name": "stdout",
     "output_type": "stream",
     "text": [
      "The length of the entered string  sample is: 6\n"
     ]
    }
   ],
   "source": [
    "print(\"Please enter the string:\")\n",
    "s=input()\n",
    "print(\"The length of the entered string \",s,\"is:\",len(s))"
   ]
  },
  {
   "cell_type": "markdown",
   "id": "9074254c-adb7-447d-89bb-a84a7911e1d3",
   "metadata": {},
   "source": [
    "TOPIC: String Based Questions"
   ]
  },
  {
   "cell_type": "markdown",
   "id": "a8730dcf-d065-4c05-adf0-67732f099263",
   "metadata": {},
   "source": [
    "2. Create a program that takes a sentence from the user and counts the\n",
    "number of vowels (a, e, i, o, u) in the string."
   ]
  },
  {
   "cell_type": "code",
   "execution_count": 9,
   "id": "7dd6fbc3-07a8-4a1f-b482-7e12bdee7449",
   "metadata": {},
   "outputs": [
    {
     "name": "stdout",
     "output_type": "stream",
     "text": [
      "Please enter the sentence\n"
     ]
    },
    {
     "name": "stdin",
     "output_type": "stream",
     "text": [
      " This is the sentence for counting the number of vowels a,e,i,o,u\n"
     ]
    },
    {
     "data": {
      "text/plain": [
       "'This is the sentence for counting the number of vowels a,e,i,o,u'"
      ]
     },
     "execution_count": 9,
     "metadata": {},
     "output_type": "execute_result"
    }
   ],
   "source": [
    "print(\"Please enter the sentence\")\n",
    "s1=input()\n",
    "s1"
   ]
  },
  {
   "cell_type": "code",
   "execution_count": 11,
   "id": "10bb3043-8305-489c-bbbc-32fd5f4882c0",
   "metadata": {},
   "outputs": [
    {
     "data": {
      "text/plain": [
       "'this is the sentence for counting the number of vowels a,e,i,o,u'"
      ]
     },
     "execution_count": 11,
     "metadata": {},
     "output_type": "execute_result"
    }
   ],
   "source": [
    "#Converting user provided sentance into lower case\n",
    "l_s1=s1.lower()\n",
    "l_s1"
   ]
  },
  {
   "cell_type": "code",
   "execution_count": 12,
   "id": "31769a90-91d4-4007-a44f-654efea8aba1",
   "metadata": {},
   "outputs": [
    {
     "name": "stdout",
     "output_type": "stream",
     "text": [
      "Vowels in the entered sentense are: 20\n"
     ]
    }
   ],
   "source": [
    "#Initialing a counter variable vowels with zero value.\n",
    "vowels=0\n",
    "#Iterating over the sentence and verifying whether given sentence has vowels, if yes increasing the vowels variable with 1\n",
    "for i in range(0,len(l_s1)-1):\n",
    "    if l_s1[i] == 'a' or l_s1[i]=='e' or l_s1[i]=='i' or l_s1[i]=='o' or l_s1[i]=='u':\n",
    "        vowels=vowels+1\n",
    "        \n",
    "print(\"Vowels in the entered sentense are:\",vowels)"
   ]
  },
  {
   "cell_type": "markdown",
   "id": "d0c514f0-3e3c-4eae-b686-d676aca34cb9",
   "metadata": {},
   "source": [
    "TOPIC: String Based Questions"
   ]
  },
  {
   "cell_type": "markdown",
   "id": "fd384547-4e44-4f15-80ed-46cdf59d932d",
   "metadata": {},
   "source": [
    "3. Given a string, reverse the order of characters using string slicing and\n",
    "print the reversed string."
   ]
  },
  {
   "cell_type": "code",
   "execution_count": 14,
   "id": "db8b8110-974e-4eff-9555-2f4e7150a54c",
   "metadata": {},
   "outputs": [
    {
     "name": "stdout",
     "output_type": "stream",
     "text": [
      "Please enter the string\n"
     ]
    },
    {
     "name": "stdin",
     "output_type": "stream",
     "text": [
      " Reverse\n"
     ]
    },
    {
     "name": "stdout",
     "output_type": "stream",
     "text": [
      "Following is the use entered string:  Reverse\n",
      "Following is the reversed string:  esreveR\n"
     ]
    }
   ],
   "source": [
    "#Taking the string from user input\n",
    "print(\"Please enter the string\")\n",
    "s2=input()\n",
    "#Printing the user provided string\n",
    "print(\"Following is the use entered string: \",s2)\n",
    "#Reversing the user provided string in revese order and storing it in reversed_s2 variable and printing\n",
    "reversed_s2=s2[::-1]\n",
    "print(\"Following is the reversed string: \",reversed_s2)"
   ]
  },
  {
   "cell_type": "markdown",
   "id": "5e2454bb-0989-462a-9ab1-2913e546ca6c",
   "metadata": {},
   "source": [
    "TOPIC: String Based Questions"
   ]
  },
  {
   "cell_type": "markdown",
   "id": "371ffafa-90c3-4d0e-be59-80e1637e5f85",
   "metadata": {},
   "source": [
    "4. Write a program that takes a string as input and checks if it is a\n",
    "palindrome (reads the same forwards and backwards)."
   ]
  },
  {
   "cell_type": "code",
   "execution_count": 15,
   "id": "6d328e63-0f98-4225-a536-6dc06e319b1c",
   "metadata": {},
   "outputs": [
    {
     "name": "stdout",
     "output_type": "stream",
     "text": [
      "Enter a string: \n"
     ]
    },
    {
     "name": "stdin",
     "output_type": "stream",
     "text": [
      " Madam\n"
     ]
    },
    {
     "name": "stdout",
     "output_type": "stream",
     "text": [
      "Entered string is : Madam\n",
      "Reverse string is:  madaM\n"
     ]
    }
   ],
   "source": [
    "#Taking the string from user input\n",
    "print(\"Enter a string: \")\n",
    "p1=input()\n",
    "#Printing the user provided string\n",
    "print(\"Entered string is :\",p1)\n",
    "#Reversing the user provided string in revese order and storing it in reversed_s2 variable and printing\n",
    "reversed_p1=p1[::-1]\n",
    "print(\"Reverse string is: \",reversed_p1)"
   ]
  },
  {
   "cell_type": "code",
   "execution_count": 16,
   "id": "60cb5c0f-43ca-4ea9-8554-8e0b877c11fe",
   "metadata": {},
   "outputs": [
    {
     "name": "stdout",
     "output_type": "stream",
     "text": [
      "Given string is a palindrome  Madam\n"
     ]
    }
   ],
   "source": [
    "#Converting entered and reverse string in to lower case and verifying string is palindrome or not\n",
    "if(p1.lower()==reversed_p1.lower()):\n",
    "    print(\"Given string is a palindrome \",p1)\n",
    "else:\n",
    "    print(\"Given string is not a palindrome, entered string \",p1,\" is not mactching with revesre of the string \",reversed_p1)"
   ]
  },
  {
   "cell_type": "markdown",
   "id": "9983c745-190c-4beb-93d6-3f13cb6aff39",
   "metadata": {},
   "source": [
    "TOPIC: String Based Questions"
   ]
  },
  {
   "cell_type": "markdown",
   "id": "007b8fa4-6c67-4ae2-afa0-5e7e185e827f",
   "metadata": {},
   "source": [
    "5. Create a program that takes a string as input and removes all the\n",
    "spaces from it. Print the modified string without spaces."
   ]
  },
  {
   "cell_type": "code",
   "execution_count": 18,
   "id": "3431ac45-e18a-4726-8d7c-bbfd828632cd",
   "metadata": {},
   "outputs": [
    {
     "name": "stdout",
     "output_type": "stream",
     "text": [
      "Please enter a string\n"
     ]
    },
    {
     "name": "stdin",
     "output_type": "stream",
     "text": [
      " This is the sentence with spaces\n"
     ]
    },
    {
     "name": "stdout",
     "output_type": "stream",
     "text": [
      "Following is the string without spaces:  Thisisthesentencewithspaces\n"
     ]
    }
   ],
   "source": [
    "#Taking the string from user input\n",
    "print(\"Please enter a string\")\n",
    "r1=input()\n",
    "#Replacing the space using replace funtion\n",
    "replaced_r1=r1.replace(\" \",\"\")\n",
    "print(\"Following is the string without spaces: \",replaced_r1)"
   ]
  }
 ],
 "metadata": {
  "kernelspec": {
   "display_name": "Python 3 (ipykernel)",
   "language": "python",
   "name": "python3"
  },
  "language_info": {
   "codemirror_mode": {
    "name": "ipython",
    "version": 3
   },
   "file_extension": ".py",
   "mimetype": "text/x-python",
   "name": "python",
   "nbconvert_exporter": "python",
   "pygments_lexer": "ipython3",
   "version": "3.10.8"
  }
 },
 "nbformat": 4,
 "nbformat_minor": 5
}
